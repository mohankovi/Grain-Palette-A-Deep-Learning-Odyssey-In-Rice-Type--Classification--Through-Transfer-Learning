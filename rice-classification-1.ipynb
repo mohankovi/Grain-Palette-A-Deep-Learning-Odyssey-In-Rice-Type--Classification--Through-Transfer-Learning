{
 "cells": [
  {
   "cell_type": "code",
   "execution_count": 1,
   "id": "158894ed-a4c7-4b5a-9d70-f0447e6a4b2a",
   "metadata": {},
   "outputs": [],
   "source": [
    "import tensorflow as tf\n",
    "from tensorflow.keras.preprocessing.image import ImageDataGenerator\n",
    "from tensorflow.keras.applications import MobileNetV2\n",
    "from tensorflow.keras.models import Sequential\n",
    "from tensorflow.keras.layers import GlobalAveragePooling2D, Dense, Dropout\n",
    "import matplotlib.pyplot as plt\n"
   ]
  },
  {
   "cell_type": "code",
   "execution_count": 2,
   "id": "cc1dedf6-0449-4580-9014-49786b48e2c2",
   "metadata": {
    "scrolled": true
   },
   "outputs": [
    {
     "name": "stdout",
     "output_type": "stream",
     "text": [
      "Found 60000 images belonging to 5 classes.\n",
      "Found 15000 images belonging to 5 classes.\n"
     ]
    }
   ],
   "source": [
    "data_dir = 'rice_dataset'\n",
    "\n",
    " \n",
    "\n",
    "datagen = ImageDataGenerator(\n",
    "    rescale=1./255,\n",
    "    validation_split=0.2,\n",
    "    shear_range=0.2,\n",
    "    zoom_range=0.2,\n",
    "    horizontal_flip=True\n",
    ")\n",
    "\n",
    "train_data = datagen.flow_from_directory(\n",
    "    data_dir,\n",
    "    target_size=(224, 224),\n",
    "    batch_size=32,\n",
    "    class_mode='categorical',\n",
    "    subset='training'\n",
    ")\n",
    "\n",
    "val_data = datagen.flow_from_directory(\n",
    "    data_dir,\n",
    "    target_size=(224, 224),\n",
    "    batch_size=32,\n",
    "    class_mode='categorical',\n",
    "    subset='validation'\n",
    ")\n"
   ]
  },
  {
   "cell_type": "code",
   "execution_count": 3,
   "id": "5bac88ec-3002-4eca-baba-e00c7a070cc6",
   "metadata": {},
   "outputs": [
    {
     "name": "stdout",
     "output_type": "stream",
     "text": [
      "Epoch 1/10\n",
      "1875/1875 [==============================] - 6106s 3s/step - loss: 0.1608 - accuracy: 0.9453 - val_loss: 0.0863 - val_accuracy: 0.9699\n",
      "Epoch 2/10\n",
      "1875/1875 [==============================] - 3555s 2s/step - loss: 0.0916 - accuracy: 0.9686 - val_loss: 0.0664 - val_accuracy: 0.9771\n",
      "Epoch 3/10\n",
      "1875/1875 [==============================] - 3164s 2s/step - loss: 0.0864 - accuracy: 0.9702 - val_loss: 0.0712 - val_accuracy: 0.9757\n",
      "Epoch 4/10\n",
      "1875/1875 [==============================] - 4822s 3s/step - loss: 0.0825 - accuracy: 0.9711 - val_loss: 0.0790 - val_accuracy: 0.9711\n",
      "Epoch 5/10\n",
      "1875/1875 [==============================] - 3849s 2s/step - loss: 0.0827 - accuracy: 0.9715 - val_loss: 0.0837 - val_accuracy: 0.9702\n",
      "Epoch 6/10\n",
      "1875/1875 [==============================] - 4783s 3s/step - loss: 0.0802 - accuracy: 0.9721 - val_loss: 0.0658 - val_accuracy: 0.9775\n",
      "Epoch 7/10\n",
      "1875/1875 [==============================] - 3111s 2s/step - loss: 0.0771 - accuracy: 0.9736 - val_loss: 0.0622 - val_accuracy: 0.9804\n",
      "Epoch 8/10\n",
      "1875/1875 [==============================] - 2683s 1s/step - loss: 0.0779 - accuracy: 0.9731 - val_loss: 0.0654 - val_accuracy: 0.9779\n",
      "Epoch 9/10\n",
      "1875/1875 [==============================] - 3781s 2s/step - loss: 0.0764 - accuracy: 0.9733 - val_loss: 0.0539 - val_accuracy: 0.9823\n",
      "Epoch 10/10\n",
      "1875/1875 [==============================] - 3809s 2s/step - loss: 0.0744 - accuracy: 0.9747 - val_loss: 0.0525 - val_accuracy: 0.9823\n"
     ]
    }
   ],
   "source": [
    "base_model = MobileNetV2(include_top=False, weights='imagenet', input_shape=(224, 224, 3))\n",
    "base_model.trainable = False\n",
    "\n",
    "model = Sequential([\n",
    "    base_model,\n",
    "    GlobalAveragePooling2D(),\n",
    "    Dropout(0.3),\n",
    "    Dense(5, activation='softmax')\n",
    "])\n",
    "\n",
    "model.compile(optimizer='adam', loss='categorical_crossentropy', metrics=['accuracy'])\n",
    "\n",
    "history = model.fit(train_data, validation_data=val_data, epochs=10)\n"
   ]
  },
  {
   "cell_type": "code",
   "execution_count": 7,
   "id": "4302c466-e367-44e9-9751-c5e3ecbf2983",
   "metadata": {},
   "outputs": [],
   "source": [
    "model.save('rice_model.h5')"
   ]
  },
  {
   "cell_type": "code",
   "execution_count": null,
   "id": "1042ce26-b980-43d7-b994-567487d81350",
   "metadata": {},
   "outputs": [],
   "source": []
  }
 ],
 "metadata": {
  "kernelspec": {
   "display_name": "Python 3 (ipykernel)",
   "language": "python",
   "name": "python3"
  },
  "language_info": {
   "codemirror_mode": {
    "name": "ipython",
    "version": 3
   },
   "file_extension": ".py",
   "mimetype": "text/x-python",
   "name": "python",
   "nbconvert_exporter": "python",
   "pygments_lexer": "ipython3",
   "version": "3.8.20"
  }
 },
 "nbformat": 4,
 "nbformat_minor": 5
}
